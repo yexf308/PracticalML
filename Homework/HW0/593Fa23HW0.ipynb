{
  "nbformat": 4,
  "nbformat_minor": 0,
  "metadata": {
    "colab": {
      "provenance": [],
      "authorship_tag": "ABX9TyNn3+UUK0N70txIEW79O9Qy",
      "include_colab_link": true
    },
    "kernelspec": {
      "name": "python3",
      "display_name": "Python 3"
    },
    "language_info": {
      "name": "python"
    }
  },
  "cells": [
    {
      "cell_type": "markdown",
      "metadata": {
        "id": "view-in-github",
        "colab_type": "text"
      },
      "source": [
        "<a href=\"https://colab.research.google.com/github/yexf308/PracticalML/blob/main/Homework/HW0/593Fa23HW0.ipynb\" target=\"_parent\"><img src=\"https://colab.research.google.com/assets/colab-badge.svg\" alt=\"Open In Colab\"/></a>"
      ]
    },
    {
      "cell_type": "markdown",
      "source": [
        "$\\def\\m#1{\\mathbf{#1}}$\n",
        "$\\def\\mm#1{\\boldsymbol{#1}}$\n",
        "$\\def\\mb#1{\\mathbb{#1}}$\n",
        "$\\def\\c#1{\\mathcal{#1}}$\n",
        "$\\def\\mr#1{\\mathrm{#1}}$\n",
        "$\\newenvironment{rmat}{\\left[\\begin{array}{rrrrrrrrrrrrr}}{\\end{array}\\right]}$\n",
        "$\\newcommand\\brm{\\begin{rmat}}$\n",
        "$\\newcommand\\erm{\\end{rmat}}$\n",
        "$\\newenvironment{cmat}{\\left[\\begin{array}{ccccccccc}}{\\end{array}\\right]}$\n",
        "$\\newcommand\\bcm{\\begin{cmat}}$\n",
        "$\\newcommand\\ecm{\\end{cmat}}$\n",
        "\n",
        "# Homework 0\n",
        "## Homework guideline\n",
        "- The deadline is Sep 8th 10:30am. Submission after the deadline will not be graded.\n",
        "\n",
        "- Submit your work(your reasoning and your code) as a SINGLE .ipynb document. Please rename the document as _HW1_YOURNAME.ipynb_ (for example, _HW1_FELIX.ipynb_). You are responsible for checking that you have correctly submitted the correct document. If your code cannot run, you may receive NO point.\n",
        "\n",
        "- Please justify all short answers with a brief explanation.\n",
        "\n",
        "- You only use the Python packages included in the following cell. You are not allowed to use other advanced package or modules unless you are permitted to.\n",
        "\n",
        "- In your final submission include the plots produced by the unedited code as presented below, as well as any additional plots produced after editing the code during the course of a problem. You may find it necessary to copy/paste relevant code into additional cells to accomplish this.\n",
        "\n",
        "- Feel free to use the lecture notes and other resources. But you\n",
        "must understand, write, and hand in your own answers. In addition, you must write and submit\n",
        "your own code in the programming part of the assignment (we may run your code).\n",
        "If you copy someone else homework solution, both of you may receive ZERO point.\n",
        "\n",
        "\n",
        "- Colab is preferred. However, if you use Anaconda, please download the data file locally and save it to the same folder as this homework file."
      ],
      "metadata": {
        "id": "xqKRSA75Uofc"
      }
    },
    {
      "cell_type": "code",
      "source": [
        "import pandas as pd\n",
        "import numpy as np\n",
        "\n",
        "import seaborn as sns\n",
        "\n",
        "sns.set()\n",
        "import matplotlib.pyplot as plt\n",
        "\n",
        "# sharper plots\n",
        "%config InlineBackend.figure_format = 'retina'"
      ],
      "metadata": {
        "id": "4on9alzRUNHF"
      },
      "execution_count": null,
      "outputs": []
    },
    {
      "cell_type": "markdown",
      "source": [
        "\n",
        "\n",
        "---\n",
        "\n",
        "\n",
        "\n",
        "---\n",
        "\n",
        "# Q1: Data Analysis of US Flight (46pt)\n",
        "For this question, the dataset is very large(~1G) so we need to use the google drive to store the data. You need to allow the colab access your google drive. If you feel unsafe to your own personal data, you can create a new google account, simply for the purpose of data analysis.\n",
        "\n",
        "**Data Description:** The dataset has information about carriers and flights between US airports during the year 2008.\n",
        "Column description is available [here](https://www.transtats.bts.gov/Fields.asp?gnoyr_VQ=FGJ). Visit this site to find ex. meaning of flight cancellation codes.\n",
        "\n",
        "Consider the following terms we use:\n",
        "* unique flight – a record (row) in the dataset\n",
        "* completed flight – flight that is not cancelled (Cancelled==0 in the dataset)\n",
        "* flight code – a combination of ['UniqueCarrier','FlightNum'], i.e.  UA52\n",
        "* airport code – a three letter airport alias from 'Origin or 'Dest' columns\n",
        "\n",
        "**Data access:** the SNP data is stored in https://drive.google.com/file/d/1kOEcWtcTbbrlhVf1wlYtFQUF_kY92U5O/.\n",
        "\n",
        "**Load Data:** Once you open the link in the brower, make sure you click the \"Add shortcut to Drive\" and now your google drive should show up the zip file.  Then you run the following code to link colab to your google drive.\n",
        "\n",
        "\n"
      ],
      "metadata": {
        "id": "dCkftr3eAqj4"
      }
    },
    {
      "cell_type": "code",
      "source": [
        "from google.colab import drive\n",
        "drive.mount('/content/drive')\n",
        "import os\n",
        "os.chdir(\"/content/drive/My Drive\")"
      ],
      "metadata": {
        "colab": {
          "base_uri": "https://localhost:8080/"
        },
        "id": "HBbyQhcgBvY9",
        "outputId": "cc41c5dc-9c3e-4e7a-d51a-3b6cc2cc31be"
      },
      "execution_count": null,
      "outputs": [
        {
          "output_type": "stream",
          "name": "stdout",
          "text": [
            "Mounted at /content/drive\n"
          ]
        }
      ]
    },
    {
      "cell_type": "markdown",
      "source": [
        "We are not going to read in the whole dataset. In order to reduce memory footprint, we instead load only needed columns and cast them to suitable data types."
      ],
      "metadata": {
        "id": "GDcx1hJTCaR_"
      }
    },
    {
      "cell_type": "code",
      "source": [
        "dtype = {\n",
        "    \"DayOfWeek\": np.uint8,\n",
        "    \"DayofMonth\": np.uint8,\n",
        "    \"Month\": np.uint8,\n",
        "    \"Cancelled\": np.uint8,\n",
        "    \"Year\": np.uint16,\n",
        "    \"FlightNum\": np.uint16,\n",
        "    \"Distance\": np.uint16,\n",
        "    \"UniqueCarrier\": str,\n",
        "    \"CancellationCode\": str,\n",
        "    \"Origin\": str,\n",
        "    \"Dest\": str,\n",
        "    \"ArrDelay\": np.float16,\n",
        "    \"DepDelay\": np.float16,\n",
        "    \"CarrierDelay\": np.float16,\n",
        "    \"WeatherDelay\": np.float16,\n",
        "    \"NASDelay\": np.float16,\n",
        "    \"SecurityDelay\": np.float16,\n",
        "    \"LateAircraftDelay\": np.float16,\n",
        "    \"DepTime\": np.float16,\n",
        "}\n",
        "flights_df = pd.read_csv(\"flights_2008.csv.bz2\", usecols=dtype.keys(), dtype=dtype)"
      ],
      "metadata": {
        "id": "1Sv2X83nB-nr"
      },
      "execution_count": null,
      "outputs": []
    },
    {
      "cell_type": "code",
      "source": [
        "print(flights_df.shape)\n",
        "print(flights_df.columns)"
      ],
      "metadata": {
        "colab": {
          "base_uri": "https://localhost:8080/"
        },
        "id": "KLNRZKbNCd8p",
        "outputId": "da7c5ab9-304b-4a7b-b41b-1834265b6a25"
      },
      "execution_count": null,
      "outputs": [
        {
          "output_type": "stream",
          "name": "stdout",
          "text": [
            "(7009728, 19)\n",
            "Index(['Year', 'Month', 'DayofMonth', 'DayOfWeek', 'DepTime', 'UniqueCarrier',\n",
            "       'FlightNum', 'ArrDelay', 'DepDelay', 'Origin', 'Dest', 'Distance',\n",
            "       'Cancelled', 'CancellationCode', 'CarrierDelay', 'WeatherDelay',\n",
            "       'NASDelay', 'SecurityDelay', 'LateAircraftDelay'],\n",
            "      dtype='object')\n"
          ]
        }
      ]
    },
    {
      "cell_type": "code",
      "source": [
        "# Print first 5 rows of the dataset\n",
        "flights_df.head()"
      ],
      "metadata": {
        "colab": {
          "base_uri": "https://localhost:8080/",
          "height": 270
        },
        "id": "E9bO7EkyChBQ",
        "outputId": "fe703b13-1b71-47f6-b9ee-c52b3db65994"
      },
      "execution_count": null,
      "outputs": [
        {
          "output_type": "execute_result",
          "data": {
            "text/plain": [
              "   Year  Month  DayofMonth  DayOfWeek  DepTime UniqueCarrier  FlightNum  \\\n",
              "0  2008      1           3          4   2003.0            WN        335   \n",
              "1  2008      1           3          4    754.0            WN       3231   \n",
              "2  2008      1           3          4    628.0            WN        448   \n",
              "3  2008      1           3          4    926.0            WN       1746   \n",
              "4  2008      1           3          4   1829.0            WN       3920   \n",
              "\n",
              "   ArrDelay  DepDelay Origin Dest  Distance  Cancelled CancellationCode  \\\n",
              "0     -14.0       8.0    IAD  TPA       810          0              NaN   \n",
              "1       2.0      19.0    IAD  TPA       810          0              NaN   \n",
              "2      14.0       8.0    IND  BWI       515          0              NaN   \n",
              "3      -6.0      -4.0    IND  BWI       515          0              NaN   \n",
              "4      34.0      34.0    IND  BWI       515          0              NaN   \n",
              "\n",
              "   CarrierDelay  WeatherDelay  NASDelay  SecurityDelay  LateAircraftDelay  \n",
              "0           NaN           NaN       NaN            NaN                NaN  \n",
              "1           NaN           NaN       NaN            NaN                NaN  \n",
              "2           NaN           NaN       NaN            NaN                NaN  \n",
              "3           NaN           NaN       NaN            NaN                NaN  \n",
              "4           2.0           0.0       0.0            0.0               32.0  "
            ],
            "text/html": [
              "\n",
              "  <div id=\"df-8a9eee7a-c8d7-4ddf-8e3c-dd9bb552a2c4\">\n",
              "    <div class=\"colab-df-container\">\n",
              "      <div>\n",
              "<style scoped>\n",
              "    .dataframe tbody tr th:only-of-type {\n",
              "        vertical-align: middle;\n",
              "    }\n",
              "\n",
              "    .dataframe tbody tr th {\n",
              "        vertical-align: top;\n",
              "    }\n",
              "\n",
              "    .dataframe thead th {\n",
              "        text-align: right;\n",
              "    }\n",
              "</style>\n",
              "<table border=\"1\" class=\"dataframe\">\n",
              "  <thead>\n",
              "    <tr style=\"text-align: right;\">\n",
              "      <th></th>\n",
              "      <th>Year</th>\n",
              "      <th>Month</th>\n",
              "      <th>DayofMonth</th>\n",
              "      <th>DayOfWeek</th>\n",
              "      <th>DepTime</th>\n",
              "      <th>UniqueCarrier</th>\n",
              "      <th>FlightNum</th>\n",
              "      <th>ArrDelay</th>\n",
              "      <th>DepDelay</th>\n",
              "      <th>Origin</th>\n",
              "      <th>Dest</th>\n",
              "      <th>Distance</th>\n",
              "      <th>Cancelled</th>\n",
              "      <th>CancellationCode</th>\n",
              "      <th>CarrierDelay</th>\n",
              "      <th>WeatherDelay</th>\n",
              "      <th>NASDelay</th>\n",
              "      <th>SecurityDelay</th>\n",
              "      <th>LateAircraftDelay</th>\n",
              "    </tr>\n",
              "  </thead>\n",
              "  <tbody>\n",
              "    <tr>\n",
              "      <th>0</th>\n",
              "      <td>2008</td>\n",
              "      <td>1</td>\n",
              "      <td>3</td>\n",
              "      <td>4</td>\n",
              "      <td>2003.0</td>\n",
              "      <td>WN</td>\n",
              "      <td>335</td>\n",
              "      <td>-14.0</td>\n",
              "      <td>8.0</td>\n",
              "      <td>IAD</td>\n",
              "      <td>TPA</td>\n",
              "      <td>810</td>\n",
              "      <td>0</td>\n",
              "      <td>NaN</td>\n",
              "      <td>NaN</td>\n",
              "      <td>NaN</td>\n",
              "      <td>NaN</td>\n",
              "      <td>NaN</td>\n",
              "      <td>NaN</td>\n",
              "    </tr>\n",
              "    <tr>\n",
              "      <th>1</th>\n",
              "      <td>2008</td>\n",
              "      <td>1</td>\n",
              "      <td>3</td>\n",
              "      <td>4</td>\n",
              "      <td>754.0</td>\n",
              "      <td>WN</td>\n",
              "      <td>3231</td>\n",
              "      <td>2.0</td>\n",
              "      <td>19.0</td>\n",
              "      <td>IAD</td>\n",
              "      <td>TPA</td>\n",
              "      <td>810</td>\n",
              "      <td>0</td>\n",
              "      <td>NaN</td>\n",
              "      <td>NaN</td>\n",
              "      <td>NaN</td>\n",
              "      <td>NaN</td>\n",
              "      <td>NaN</td>\n",
              "      <td>NaN</td>\n",
              "    </tr>\n",
              "    <tr>\n",
              "      <th>2</th>\n",
              "      <td>2008</td>\n",
              "      <td>1</td>\n",
              "      <td>3</td>\n",
              "      <td>4</td>\n",
              "      <td>628.0</td>\n",
              "      <td>WN</td>\n",
              "      <td>448</td>\n",
              "      <td>14.0</td>\n",
              "      <td>8.0</td>\n",
              "      <td>IND</td>\n",
              "      <td>BWI</td>\n",
              "      <td>515</td>\n",
              "      <td>0</td>\n",
              "      <td>NaN</td>\n",
              "      <td>NaN</td>\n",
              "      <td>NaN</td>\n",
              "      <td>NaN</td>\n",
              "      <td>NaN</td>\n",
              "      <td>NaN</td>\n",
              "    </tr>\n",
              "    <tr>\n",
              "      <th>3</th>\n",
              "      <td>2008</td>\n",
              "      <td>1</td>\n",
              "      <td>3</td>\n",
              "      <td>4</td>\n",
              "      <td>926.0</td>\n",
              "      <td>WN</td>\n",
              "      <td>1746</td>\n",
              "      <td>-6.0</td>\n",
              "      <td>-4.0</td>\n",
              "      <td>IND</td>\n",
              "      <td>BWI</td>\n",
              "      <td>515</td>\n",
              "      <td>0</td>\n",
              "      <td>NaN</td>\n",
              "      <td>NaN</td>\n",
              "      <td>NaN</td>\n",
              "      <td>NaN</td>\n",
              "      <td>NaN</td>\n",
              "      <td>NaN</td>\n",
              "    </tr>\n",
              "    <tr>\n",
              "      <th>4</th>\n",
              "      <td>2008</td>\n",
              "      <td>1</td>\n",
              "      <td>3</td>\n",
              "      <td>4</td>\n",
              "      <td>1829.0</td>\n",
              "      <td>WN</td>\n",
              "      <td>3920</td>\n",
              "      <td>34.0</td>\n",
              "      <td>34.0</td>\n",
              "      <td>IND</td>\n",
              "      <td>BWI</td>\n",
              "      <td>515</td>\n",
              "      <td>0</td>\n",
              "      <td>NaN</td>\n",
              "      <td>2.0</td>\n",
              "      <td>0.0</td>\n",
              "      <td>0.0</td>\n",
              "      <td>0.0</td>\n",
              "      <td>32.0</td>\n",
              "    </tr>\n",
              "  </tbody>\n",
              "</table>\n",
              "</div>\n",
              "      <button class=\"colab-df-convert\" onclick=\"convertToInteractive('df-8a9eee7a-c8d7-4ddf-8e3c-dd9bb552a2c4')\"\n",
              "              title=\"Convert this dataframe to an interactive table.\"\n",
              "              style=\"display:none;\">\n",
              "        \n",
              "  <svg xmlns=\"http://www.w3.org/2000/svg\" height=\"24px\"viewBox=\"0 0 24 24\"\n",
              "       width=\"24px\">\n",
              "    <path d=\"M0 0h24v24H0V0z\" fill=\"none\"/>\n",
              "    <path d=\"M18.56 5.44l.94 2.06.94-2.06 2.06-.94-2.06-.94-.94-2.06-.94 2.06-2.06.94zm-11 1L8.5 8.5l.94-2.06 2.06-.94-2.06-.94L8.5 2.5l-.94 2.06-2.06.94zm10 10l.94 2.06.94-2.06 2.06-.94-2.06-.94-.94-2.06-.94 2.06-2.06.94z\"/><path d=\"M17.41 7.96l-1.37-1.37c-.4-.4-.92-.59-1.43-.59-.52 0-1.04.2-1.43.59L10.3 9.45l-7.72 7.72c-.78.78-.78 2.05 0 2.83L4 21.41c.39.39.9.59 1.41.59.51 0 1.02-.2 1.41-.59l7.78-7.78 2.81-2.81c.8-.78.8-2.07 0-2.86zM5.41 20L4 18.59l7.72-7.72 1.47 1.35L5.41 20z\"/>\n",
              "  </svg>\n",
              "      </button>\n",
              "      \n",
              "  <style>\n",
              "    .colab-df-container {\n",
              "      display:flex;\n",
              "      flex-wrap:wrap;\n",
              "      gap: 12px;\n",
              "    }\n",
              "\n",
              "    .colab-df-convert {\n",
              "      background-color: #E8F0FE;\n",
              "      border: none;\n",
              "      border-radius: 50%;\n",
              "      cursor: pointer;\n",
              "      display: none;\n",
              "      fill: #1967D2;\n",
              "      height: 32px;\n",
              "      padding: 0 0 0 0;\n",
              "      width: 32px;\n",
              "    }\n",
              "\n",
              "    .colab-df-convert:hover {\n",
              "      background-color: #E2EBFA;\n",
              "      box-shadow: 0px 1px 2px rgba(60, 64, 67, 0.3), 0px 1px 3px 1px rgba(60, 64, 67, 0.15);\n",
              "      fill: #174EA6;\n",
              "    }\n",
              "\n",
              "    [theme=dark] .colab-df-convert {\n",
              "      background-color: #3B4455;\n",
              "      fill: #D2E3FC;\n",
              "    }\n",
              "\n",
              "    [theme=dark] .colab-df-convert:hover {\n",
              "      background-color: #434B5C;\n",
              "      box-shadow: 0px 1px 3px 1px rgba(0, 0, 0, 0.15);\n",
              "      filter: drop-shadow(0px 1px 2px rgba(0, 0, 0, 0.3));\n",
              "      fill: #FFFFFF;\n",
              "    }\n",
              "  </style>\n",
              "\n",
              "      <script>\n",
              "        const buttonEl =\n",
              "          document.querySelector('#df-8a9eee7a-c8d7-4ddf-8e3c-dd9bb552a2c4 button.colab-df-convert');\n",
              "        buttonEl.style.display =\n",
              "          google.colab.kernel.accessAllowed ? 'block' : 'none';\n",
              "\n",
              "        async function convertToInteractive(key) {\n",
              "          const element = document.querySelector('#df-8a9eee7a-c8d7-4ddf-8e3c-dd9bb552a2c4');\n",
              "          const dataTable =\n",
              "            await google.colab.kernel.invokeFunction('convertToInteractive',\n",
              "                                                     [key], {});\n",
              "          if (!dataTable) return;\n",
              "\n",
              "          const docLinkHtml = 'Like what you see? Visit the ' +\n",
              "            '<a target=\"_blank\" href=https://colab.research.google.com/notebooks/data_table.ipynb>data table notebook</a>'\n",
              "            + ' to learn more about interactive tables.';\n",
              "          element.innerHTML = '';\n",
              "          dataTable['output_type'] = 'display_data';\n",
              "          await google.colab.output.renderOutput(dataTable, element);\n",
              "          const docLink = document.createElement('div');\n",
              "          docLink.innerHTML = docLinkHtml;\n",
              "          element.appendChild(docLink);\n",
              "        }\n",
              "      </script>\n",
              "    </div>\n",
              "  </div>\n",
              "  "
            ]
          },
          "metadata": {},
          "execution_count": 6
        }
      ]
    },
    {
      "cell_type": "code",
      "source": [
        "# Examine data types of all features and total dataframe size in memory\n",
        "flights_df.info()"
      ],
      "metadata": {
        "colab": {
          "base_uri": "https://localhost:8080/"
        },
        "id": "7m5TbBVACor3",
        "outputId": "53863f9c-df77-42fc-df50-9cdda7705d6c"
      },
      "execution_count": null,
      "outputs": [
        {
          "output_type": "stream",
          "name": "stdout",
          "text": [
            "<class 'pandas.core.frame.DataFrame'>\n",
            "RangeIndex: 7009728 entries, 0 to 7009727\n",
            "Data columns (total 19 columns):\n",
            " #   Column             Dtype  \n",
            "---  ------             -----  \n",
            " 0   Year               uint16 \n",
            " 1   Month              uint8  \n",
            " 2   DayofMonth         uint8  \n",
            " 3   DayOfWeek          uint8  \n",
            " 4   DepTime            float16\n",
            " 5   UniqueCarrier      object \n",
            " 6   FlightNum          uint16 \n",
            " 7   ArrDelay           float16\n",
            " 8   DepDelay           float16\n",
            " 9   Origin             object \n",
            " 10  Dest               object \n",
            " 11  Distance           uint16 \n",
            " 12  Cancelled          uint8  \n",
            " 13  CancellationCode   object \n",
            " 14  CarrierDelay       float16\n",
            " 15  WeatherDelay       float16\n",
            " 16  NASDelay           float16\n",
            " 17  SecurityDelay      float16\n",
            " 18  LateAircraftDelay  float16\n",
            "dtypes: float16(8), object(4), uint16(3), uint8(4)\n",
            "memory usage: 387.7+ MB\n"
          ]
        }
      ]
    },
    {
      "cell_type": "markdown",
      "source": [
        "## Q1.1: Simple Tasks (18pt)\n",
        "Here are simples tasks to further understand this dataset first."
      ],
      "metadata": {
        "id": "eE2o2CuJDBEC"
      }
    },
    {
      "cell_type": "code",
      "source": [
        "# Q1.1.1 Count unique Carriers and plot their relative share of flights\n",
        "\n",
        "# Your code starts here\n"
      ],
      "metadata": {
        "id": "KQY5HD53DDvI"
      },
      "execution_count": null,
      "outputs": []
    },
    {
      "cell_type": "code",
      "source": [
        "# Q1.1.2 Finding top-3 flight codes, that have the largest total distance traveled in year 2008\n",
        "\n",
        "# Your code starts here\n"
      ],
      "metadata": {
        "id": "4oJ6dCgBDVvw"
      },
      "execution_count": null,
      "outputs": []
    },
    {
      "cell_type": "code",
      "source": [
        "# Q1.1.3 Find number of flights by days of week and months and use imshow to plot this table\n",
        "\n",
        "# Your code starts here\n"
      ],
      "metadata": {
        "id": "IEALMWzYDtNC"
      },
      "execution_count": null,
      "outputs": []
    },
    {
      "cell_type": "code",
      "source": [
        "# Q1.1.4 We have both cancelled and completed flights in the dataset.\n",
        "# Check if there are more completed or cancelled flights. What is the difference?\n",
        "\n",
        "# Your code starts here"
      ],
      "metadata": {
        "id": "spp6mBP6Ee99"
      },
      "execution_count": null,
      "outputs": []
    },
    {
      "cell_type": "code",
      "source": [
        "# Q1.1.5 Find the carrier that has the greatest number of cancelled flights.\n",
        "\n",
        "# Your code starts here"
      ],
      "metadata": {
        "id": "UPFsY9RWF2fA"
      },
      "execution_count": null,
      "outputs": []
    },
    {
      "cell_type": "code",
      "source": [
        "# Q1.1.6\n",
        "# Plot distributions of flight cancellation reasons (CancellationCode).\n",
        "# What is the most frequent reason for flight cancellation?\n",
        "# (Use this (https://www.transtats.bts.gov/Fields.asp?Table_ID=236) to translate codes into reasons)\n",
        "\n",
        "# Your code starts here"
      ],
      "metadata": {
        "id": "WGc7pMhCGYGl"
      },
      "execution_count": null,
      "outputs": []
    },
    {
      "cell_type": "markdown",
      "source": [
        "## Q2.2 More sophisticated tasks (28pt)\n",
        "Now you are asked to perform more sophisticated analysis on this dataset."
      ],
      "metadata": {
        "id": "wPUIZ42JFNwf"
      }
    },
    {
      "cell_type": "code",
      "source": [
        "# Q1.2.1\n",
        "# We'll need a new column in our dataset - departure hour\n",
        "# `DepTime` is distributed from 1 to 2400 (it is given in the `hhmm` format.\n",
        "# We'll treat departure hour as `DepTime` // 100 (divide by 100 and apply the `floor` function).\n",
        "# However, now we'll have both hour 0 and hour 24.\n",
        "# Hour 24 sounds strange, we'll set it to be 0 instead (a typical imperfectness of real data, however, you can check that it affects only 521 rows, which is sort of not a big deal).\n",
        "# So now values of a new column `DepHour` will be distributed from 0 to 23.\n",
        "# There are some missing values, for now we won't fill in them, just ignore them.\n",
        "\n"
      ],
      "metadata": {
        "id": "e0fcIEqqFnsY"
      },
      "execution_count": null,
      "outputs": []
    },
    {
      "cell_type": "code",
      "source": [
        "# Q1.2.2\n",
        "# Which route is the most frequent, in terms of the number of flights?\n",
        "# Take a look at 'Origin' and 'Dest' features. Consider A->B and B->A directions as different routes)\n",
        "\n"
      ],
      "metadata": {
        "id": "4yc5kyAjGogk"
      },
      "execution_count": null,
      "outputs": []
    },
    {
      "cell_type": "code",
      "source": [
        "# Q1.2.3\n",
        "# Find top-5 delayed routes (count how many times they were delayed on departure).\n",
        "# From all flights on these 5 routes, count all flights with weather conditions contributing to a delay.\n",
        "# consider only positive delays\n",
        "\n"
      ],
      "metadata": {
        "id": "fRGLZ-LMHK8D"
      },
      "execution_count": null,
      "outputs": []
    },
    {
      "cell_type": "code",
      "source": [
        "# Q1.2.4\n",
        "# Let's examine departure time and consider distribution by hour (column `DepHour` that we've created earlier).\n",
        "# Which hour has the highest percentage of flights?\n",
        "# Which hour has the least percentage of cancelled flights?\n"
      ],
      "metadata": {
        "id": "T49quCGPI1vN"
      },
      "execution_count": null,
      "outputs": []
    },
    {
      "cell_type": "code",
      "source": [
        "# Q1.2.5\n",
        "# Since we know the departure hour, it might be interesting to examine the average delay for corresponding hour.\n",
        "# Are there any cases, when the planes on average departed earlier than they should have done?\n",
        "# And if yes, at what departure hours did it happen?\n",
        "\n"
      ],
      "metadata": {
        "id": "KrbOLNpMJImO"
      },
      "execution_count": null,
      "outputs": []
    },
    {
      "cell_type": "code",
      "source": [
        "# Q1.2.6\n",
        "# Examine the distribution of cancellation reasons with time. Make a bar plot of cancellation reasons aggregated by months.\n",
        "import calendar\n"
      ],
      "metadata": {
        "id": "H881AKG7J1gt"
      },
      "execution_count": null,
      "outputs": []
    },
    {
      "cell_type": "code",
      "source": [
        "# Q1.2.7\n",
        "# Examine median arrival and departure delays (in time) by carrier. Which carrier has the lowest median delay time for both arrivals and departures? Leave only non-negative values of delay times ('ArrDelay', 'DepDelay').\n",
        "# Use ([Boxplots](https://seaborn.pydata.org/generated/seaborn.boxplot.html) to plot ArrDelay vs Carrier and DepDelay vs Carrier.\n",
        "\n"
      ],
      "metadata": {
        "id": "pxyHPePtKT86"
      },
      "execution_count": null,
      "outputs": []
    }
  ]
}