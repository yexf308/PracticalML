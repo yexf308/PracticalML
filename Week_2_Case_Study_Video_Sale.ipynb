{
  "nbformat": 4,
  "nbformat_minor": 0,
  "metadata": {
    "colab": {
      "provenance": [],
      "authorship_tag": "ABX9TyPARfPUjI7GE17rXC445mCc",
      "include_colab_link": true
    },
    "kernelspec": {
      "name": "python3",
      "display_name": "Python 3"
    },
    "language_info": {
      "name": "python"
    }
  },
  "cells": [
    {
      "cell_type": "markdown",
      "metadata": {
        "id": "view-in-github",
        "colab_type": "text"
      },
      "source": [
        "<a href=\"https://colab.research.google.com/github/yexf308/PracticalML/blob/main/Week_2_Case_Study_Video_Sale.ipynb\" target=\"_parent\"><img src=\"https://colab.research.google.com/assets/colab-badge.svg\" alt=\"Open In Colab\"/></a>"
      ]
    },
    {
      "cell_type": "markdown",
      "source": [
        "We picked a dataset on video game sales and ratings from [Video Game Sales with Ratings](https://www.kaggle.com/datasets/rush4ratio/video-game-sales-with-ratings). Some of the games in this dataset lack ratings; so, let’s filter for only those examples that have all of their values present."
      ],
      "metadata": {
        "id": "4CS1bkTpz03J"
      }
    },
    {
      "cell_type": "code",
      "execution_count": null,
      "metadata": {
        "id": "GmM58nUHN7Jf",
        "colab": {
          "base_uri": "https://localhost:8080/"
        },
        "outputId": "7d998d58-5a06-4673-915e-396c87ca8c7e"
      },
      "outputs": [
        {
          "output_type": "stream",
          "name": "stdout",
          "text": [
            "--2023-05-17 17:44:48--  https://raw.githubusercontent.com/yexf308/PracticalML/main/data/video_games_sales.csv?raw=true\n",
            "Resolving raw.githubusercontent.com (raw.githubusercontent.com)... 185.199.108.133, 185.199.109.133, 185.199.111.133, ...\n",
            "Connecting to raw.githubusercontent.com (raw.githubusercontent.com)|185.199.108.133|:443... connected.\n",
            "HTTP request sent, awaiting response... 200 OK\n",
            "Length: 1618040 (1.5M) [text/plain]\n",
            "Saving to: ‘video_games_sales.csv’\n",
            "\n",
            "\rvideo_games_sales.c   0%[                    ]       0  --.-KB/s               \rvideo_games_sales.c 100%[===================>]   1.54M  --.-KB/s    in 0.04s   \n",
            "\n",
            "2023-05-17 17:44:48 (37.6 MB/s) - ‘video_games_sales.csv’ saved [1618040/1618040]\n",
            "\n"
          ]
        }
      ],
      "source": [
        "!wget https://raw.githubusercontent.com/yexf308/PracticalML/main/data/video_games_sales.csv?raw=true -O video_games_sales.csv\n"
      ]
    },
    {
      "cell_type": "code",
      "source": [
        "import pandas as pd\n",
        "import matplotlib.pyplot as plt\n",
        "import seaborn as sns\n",
        "\n",
        "sns.set()\n",
        "\n",
        "# Graphics in SVG format are more sharp and legible\n",
        "%config InlineBackend.figure_format = 'svg'\n",
        "\n",
        "# Increase the default plot size and set the color scheme\n",
        "plt.rcParams[\"figure.figsize\"] = (8, 5)\n",
        "plt.rcParams[\"image.cmap\"] = \"viridis\""
      ],
      "metadata": {
        "id": "7vknNg76zZvN"
      },
      "execution_count": null,
      "outputs": []
    },
    {
      "cell_type": "code",
      "source": [
        "# Load the data into a pandas dataframe and droped NA data entry\n",
        "df = pd.read_csv(\"video_games_sales.csv\").dropna()\n",
        "print(df.shape)"
      ],
      "metadata": {
        "colab": {
          "base_uri": "https://localhost:8080/"
        },
        "id": "L-8O_G8Mzi8g",
        "outputId": "23fdb066-c4d9-49d9-cd23-c7b48c5cd440"
      },
      "execution_count": null,
      "outputs": [
        {
          "output_type": "stream",
          "name": "stdout",
          "text": [
            "(6825, 16)\n"
          ]
        }
      ]
    },
    {
      "cell_type": "code",
      "source": [
        "# Next, print the summary of the DataFrame to check data types and to verify everything is non-null.\n",
        "print(df.info())"
      ],
      "metadata": {
        "colab": {
          "base_uri": "https://localhost:8080/"
        },
        "id": "XBuvcoDX0PaD",
        "outputId": "92e34f7f-e95a-48c9-c65a-85adee1a090a"
      },
      "execution_count": null,
      "outputs": [
        {
          "output_type": "stream",
          "name": "stdout",
          "text": [
            "<class 'pandas.core.frame.DataFrame'>\n",
            "Int64Index: 6825 entries, 0 to 16706\n",
            "Data columns (total 16 columns):\n",
            " #   Column           Non-Null Count  Dtype  \n",
            "---  ------           --------------  -----  \n",
            " 0   Name             6825 non-null   object \n",
            " 1   Platform         6825 non-null   object \n",
            " 2   Year_of_Release  6825 non-null   float64\n",
            " 3   Genre            6825 non-null   object \n",
            " 4   Publisher        6825 non-null   object \n",
            " 5   NA_Sales         6825 non-null   float64\n",
            " 6   EU_Sales         6825 non-null   float64\n",
            " 7   JP_Sales         6825 non-null   float64\n",
            " 8   Other_Sales      6825 non-null   float64\n",
            " 9   Global_Sales     6825 non-null   float64\n",
            " 10  Critic_Score     6825 non-null   float64\n",
            " 11  Critic_Count     6825 non-null   float64\n",
            " 12  User_Score       6825 non-null   object \n",
            " 13  User_Count       6825 non-null   float64\n",
            " 14  Developer        6825 non-null   object \n",
            " 15  Rating           6825 non-null   object \n",
            "dtypes: float64(9), object(7)\n",
            "memory usage: 906.4+ KB\n",
            "None\n"
          ]
        }
      ]
    },
    {
      "cell_type": "code",
      "source": [
        "df[\"Year_of_Release\"]"
      ],
      "metadata": {
        "colab": {
          "base_uri": "https://localhost:8080/"
        },
        "id": "WUU1S9HF01lz",
        "outputId": "a3c1dec7-9f85-41c2-c1d5-9598b853f0b6"
      },
      "execution_count": null,
      "outputs": [
        {
          "output_type": "execute_result",
          "data": {
            "text/plain": [
              "0        2006.0\n",
              "2        2008.0\n",
              "3        2009.0\n",
              "6        2006.0\n",
              "7        2006.0\n",
              "          ...  \n",
              "16667    2001.0\n",
              "16677    2002.0\n",
              "16696    2014.0\n",
              "16700    2011.0\n",
              "16706    2011.0\n",
              "Name: Year_of_Release, Length: 6825, dtype: float64"
            ]
          },
          "metadata": {},
          "execution_count": 12
        }
      ]
    },
    {
      "cell_type": "code",
      "source": [
        "df[\"User_Score\"]"
      ],
      "metadata": {
        "colab": {
          "base_uri": "https://localhost:8080/"
        },
        "id": "2zyVy-2L045P",
        "outputId": "0eb6bf19-7c59-4cb3-ca72-be196e35f231"
      },
      "execution_count": null,
      "outputs": [
        {
          "output_type": "execute_result",
          "data": {
            "text/plain": [
              "0          8\n",
              "2        8.3\n",
              "3          8\n",
              "6        8.5\n",
              "7        6.6\n",
              "        ... \n",
              "16667    2.4\n",
              "16677    8.8\n",
              "16696    7.6\n",
              "16700    5.8\n",
              "16706    7.2\n",
              "Name: User_Score, Length: 6825, dtype: object"
            ]
          },
          "metadata": {},
          "execution_count": 13
        }
      ]
    },
    {
      "cell_type": "markdown",
      "source": [
        "## Task 1: \n",
        "We see that pandas has loaded some of the numerical features as object type. **We will explicitly convert those columns into float and int.**"
      ],
      "metadata": {
        "id": "cn9eCGYI0dhL"
      }
    },
    {
      "cell_type": "code",
      "source": [],
      "metadata": {
        "id": "qBI-VojH0cOo"
      },
      "execution_count": null,
      "outputs": []
    },
    {
      "cell_type": "code",
      "source": [
        "print(df.info())"
      ],
      "metadata": {
        "id": "IXrYXO7a0vQE"
      },
      "execution_count": null,
      "outputs": []
    },
    {
      "cell_type": "markdown",
      "source": [
        "The resulting DataFrame contains 6825 examples and 16 columns. Let’s look at the first few entries with the ```head()``` method to check that everything has been parsed correctly. "
      ],
      "metadata": {
        "id": "7NNzt2Zx0h5p"
      }
    },
    {
      "cell_type": "code",
      "source": [
        "\n",
        "df.head()"
      ],
      "metadata": {
        "colab": {
          "base_uri": "https://localhost:8080/",
          "height": 426
        },
        "id": "6bjQ-yml1WBl",
        "outputId": "0457817c-f1c1-4b9b-adb5-8380aeb74a1f"
      },
      "execution_count": null,
      "outputs": [
        {
          "output_type": "execute_result",
          "data": {
            "text/plain": [
              "                    Name Platform  Year_of_Release     Genre Publisher  \\\n",
              "0             Wii Sports      Wii             2006    Sports  Nintendo   \n",
              "2         Mario Kart Wii      Wii             2008    Racing  Nintendo   \n",
              "3      Wii Sports Resort      Wii             2009    Sports  Nintendo   \n",
              "6  New Super Mario Bros.       DS             2006  Platform  Nintendo   \n",
              "7               Wii Play      Wii             2006      Misc  Nintendo   \n",
              "\n",
              "   NA_Sales  EU_Sales  JP_Sales  Other_Sales  Global_Sales  Critic_Score  \\\n",
              "0     41.36     28.96      3.77         8.45         82.53          76.0   \n",
              "2     15.68     12.76      3.79         3.29         35.52          82.0   \n",
              "3     15.61     10.93      3.28         2.95         32.77          80.0   \n",
              "6     11.28      9.14      6.50         2.88         29.80          89.0   \n",
              "7     13.96      9.18      2.93         2.84         28.92          58.0   \n",
              "\n",
              "   Critic_Count  User_Score  User_Count Developer Rating  \n",
              "0            51         8.0         322  Nintendo      E  \n",
              "2            73         8.3         709  Nintendo      E  \n",
              "3            73         8.0         192  Nintendo      E  \n",
              "6            65         8.5         431  Nintendo      E  \n",
              "7            41         6.6         129  Nintendo      E  "
            ],
            "text/html": [
              "\n",
              "  <div id=\"df-da133481-3ff7-44b6-9997-523292885e85\">\n",
              "    <div class=\"colab-df-container\">\n",
              "      <div>\n",
              "<style scoped>\n",
              "    .dataframe tbody tr th:only-of-type {\n",
              "        vertical-align: middle;\n",
              "    }\n",
              "\n",
              "    .dataframe tbody tr th {\n",
              "        vertical-align: top;\n",
              "    }\n",
              "\n",
              "    .dataframe thead th {\n",
              "        text-align: right;\n",
              "    }\n",
              "</style>\n",
              "<table border=\"1\" class=\"dataframe\">\n",
              "  <thead>\n",
              "    <tr style=\"text-align: right;\">\n",
              "      <th></th>\n",
              "      <th>Name</th>\n",
              "      <th>Platform</th>\n",
              "      <th>Year_of_Release</th>\n",
              "      <th>Genre</th>\n",
              "      <th>Publisher</th>\n",
              "      <th>NA_Sales</th>\n",
              "      <th>EU_Sales</th>\n",
              "      <th>JP_Sales</th>\n",
              "      <th>Other_Sales</th>\n",
              "      <th>Global_Sales</th>\n",
              "      <th>Critic_Score</th>\n",
              "      <th>Critic_Count</th>\n",
              "      <th>User_Score</th>\n",
              "      <th>User_Count</th>\n",
              "      <th>Developer</th>\n",
              "      <th>Rating</th>\n",
              "    </tr>\n",
              "  </thead>\n",
              "  <tbody>\n",
              "    <tr>\n",
              "      <th>0</th>\n",
              "      <td>Wii Sports</td>\n",
              "      <td>Wii</td>\n",
              "      <td>2006</td>\n",
              "      <td>Sports</td>\n",
              "      <td>Nintendo</td>\n",
              "      <td>41.36</td>\n",
              "      <td>28.96</td>\n",
              "      <td>3.77</td>\n",
              "      <td>8.45</td>\n",
              "      <td>82.53</td>\n",
              "      <td>76.0</td>\n",
              "      <td>51</td>\n",
              "      <td>8.0</td>\n",
              "      <td>322</td>\n",
              "      <td>Nintendo</td>\n",
              "      <td>E</td>\n",
              "    </tr>\n",
              "    <tr>\n",
              "      <th>2</th>\n",
              "      <td>Mario Kart Wii</td>\n",
              "      <td>Wii</td>\n",
              "      <td>2008</td>\n",
              "      <td>Racing</td>\n",
              "      <td>Nintendo</td>\n",
              "      <td>15.68</td>\n",
              "      <td>12.76</td>\n",
              "      <td>3.79</td>\n",
              "      <td>3.29</td>\n",
              "      <td>35.52</td>\n",
              "      <td>82.0</td>\n",
              "      <td>73</td>\n",
              "      <td>8.3</td>\n",
              "      <td>709</td>\n",
              "      <td>Nintendo</td>\n",
              "      <td>E</td>\n",
              "    </tr>\n",
              "    <tr>\n",
              "      <th>3</th>\n",
              "      <td>Wii Sports Resort</td>\n",
              "      <td>Wii</td>\n",
              "      <td>2009</td>\n",
              "      <td>Sports</td>\n",
              "      <td>Nintendo</td>\n",
              "      <td>15.61</td>\n",
              "      <td>10.93</td>\n",
              "      <td>3.28</td>\n",
              "      <td>2.95</td>\n",
              "      <td>32.77</td>\n",
              "      <td>80.0</td>\n",
              "      <td>73</td>\n",
              "      <td>8.0</td>\n",
              "      <td>192</td>\n",
              "      <td>Nintendo</td>\n",
              "      <td>E</td>\n",
              "    </tr>\n",
              "    <tr>\n",
              "      <th>6</th>\n",
              "      <td>New Super Mario Bros.</td>\n",
              "      <td>DS</td>\n",
              "      <td>2006</td>\n",
              "      <td>Platform</td>\n",
              "      <td>Nintendo</td>\n",
              "      <td>11.28</td>\n",
              "      <td>9.14</td>\n",
              "      <td>6.50</td>\n",
              "      <td>2.88</td>\n",
              "      <td>29.80</td>\n",
              "      <td>89.0</td>\n",
              "      <td>65</td>\n",
              "      <td>8.5</td>\n",
              "      <td>431</td>\n",
              "      <td>Nintendo</td>\n",
              "      <td>E</td>\n",
              "    </tr>\n",
              "    <tr>\n",
              "      <th>7</th>\n",
              "      <td>Wii Play</td>\n",
              "      <td>Wii</td>\n",
              "      <td>2006</td>\n",
              "      <td>Misc</td>\n",
              "      <td>Nintendo</td>\n",
              "      <td>13.96</td>\n",
              "      <td>9.18</td>\n",
              "      <td>2.93</td>\n",
              "      <td>2.84</td>\n",
              "      <td>28.92</td>\n",
              "      <td>58.0</td>\n",
              "      <td>41</td>\n",
              "      <td>6.6</td>\n",
              "      <td>129</td>\n",
              "      <td>Nintendo</td>\n",
              "      <td>E</td>\n",
              "    </tr>\n",
              "  </tbody>\n",
              "</table>\n",
              "</div>\n",
              "      <button class=\"colab-df-convert\" onclick=\"convertToInteractive('df-da133481-3ff7-44b6-9997-523292885e85')\"\n",
              "              title=\"Convert this dataframe to an interactive table.\"\n",
              "              style=\"display:none;\">\n",
              "        \n",
              "  <svg xmlns=\"http://www.w3.org/2000/svg\" height=\"24px\"viewBox=\"0 0 24 24\"\n",
              "       width=\"24px\">\n",
              "    <path d=\"M0 0h24v24H0V0z\" fill=\"none\"/>\n",
              "    <path d=\"M18.56 5.44l.94 2.06.94-2.06 2.06-.94-2.06-.94-.94-2.06-.94 2.06-2.06.94zm-11 1L8.5 8.5l.94-2.06 2.06-.94-2.06-.94L8.5 2.5l-.94 2.06-2.06.94zm10 10l.94 2.06.94-2.06 2.06-.94-2.06-.94-.94-2.06-.94 2.06-2.06.94z\"/><path d=\"M17.41 7.96l-1.37-1.37c-.4-.4-.92-.59-1.43-.59-.52 0-1.04.2-1.43.59L10.3 9.45l-7.72 7.72c-.78.78-.78 2.05 0 2.83L4 21.41c.39.39.9.59 1.41.59.51 0 1.02-.2 1.41-.59l7.78-7.78 2.81-2.81c.8-.78.8-2.07 0-2.86zM5.41 20L4 18.59l7.72-7.72 1.47 1.35L5.41 20z\"/>\n",
              "  </svg>\n",
              "      </button>\n",
              "      \n",
              "  <style>\n",
              "    .colab-df-container {\n",
              "      display:flex;\n",
              "      flex-wrap:wrap;\n",
              "      gap: 12px;\n",
              "    }\n",
              "\n",
              "    .colab-df-convert {\n",
              "      background-color: #E8F0FE;\n",
              "      border: none;\n",
              "      border-radius: 50%;\n",
              "      cursor: pointer;\n",
              "      display: none;\n",
              "      fill: #1967D2;\n",
              "      height: 32px;\n",
              "      padding: 0 0 0 0;\n",
              "      width: 32px;\n",
              "    }\n",
              "\n",
              "    .colab-df-convert:hover {\n",
              "      background-color: #E2EBFA;\n",
              "      box-shadow: 0px 1px 2px rgba(60, 64, 67, 0.3), 0px 1px 3px 1px rgba(60, 64, 67, 0.15);\n",
              "      fill: #174EA6;\n",
              "    }\n",
              "\n",
              "    [theme=dark] .colab-df-convert {\n",
              "      background-color: #3B4455;\n",
              "      fill: #D2E3FC;\n",
              "    }\n",
              "\n",
              "    [theme=dark] .colab-df-convert:hover {\n",
              "      background-color: #434B5C;\n",
              "      box-shadow: 0px 1px 3px 1px rgba(0, 0, 0, 0.15);\n",
              "      filter: drop-shadow(0px 1px 2px rgba(0, 0, 0, 0.3));\n",
              "      fill: #FFFFFF;\n",
              "    }\n",
              "  </style>\n",
              "\n",
              "      <script>\n",
              "        const buttonEl =\n",
              "          document.querySelector('#df-da133481-3ff7-44b6-9997-523292885e85 button.colab-df-convert');\n",
              "        buttonEl.style.display =\n",
              "          google.colab.kernel.accessAllowed ? 'block' : 'none';\n",
              "\n",
              "        async function convertToInteractive(key) {\n",
              "          const element = document.querySelector('#df-da133481-3ff7-44b6-9997-523292885e85');\n",
              "          const dataTable =\n",
              "            await google.colab.kernel.invokeFunction('convertToInteractive',\n",
              "                                                     [key], {});\n",
              "          if (!dataTable) return;\n",
              "\n",
              "          const docLinkHtml = 'Like what you see? Visit the ' +\n",
              "            '<a target=\"_blank\" href=https://colab.research.google.com/notebooks/data_table.ipynb>data table notebook</a>'\n",
              "            + ' to learn more about interactive tables.';\n",
              "          element.innerHTML = '';\n",
              "          dataTable['output_type'] = 'display_data';\n",
              "          await google.colab.output.renderOutput(dataTable, element);\n",
              "          const docLink = document.createElement('div');\n",
              "          docLink.innerHTML = docLinkHtml;\n",
              "          element.appendChild(docLink);\n",
              "        }\n",
              "      </script>\n",
              "    </div>\n",
              "  </div>\n",
              "  "
            ]
          },
          "metadata": {},
          "execution_count": 17
        }
      ]
    },
    {
      "cell_type": "markdown",
      "source": [
        "## Task 2:\n",
        "**Create a plot of video game sales by country and year.**"
      ],
      "metadata": {
        "id": "SivjZ2cO1hOs"
      }
    },
    {
      "cell_type": "code",
      "source": [
        "\n"
      ],
      "metadata": {
        "id": "yEbDY6tG2RDZ"
      },
      "execution_count": null,
      "outputs": []
    },
    {
      "cell_type": "code",
      "source": [
        "# or use matplotlib\n"
      ],
      "metadata": {
        "id": "jNh2KAxV4Ufe"
      },
      "execution_count": null,
      "outputs": []
    },
    {
      "cell_type": "markdown",
      "source": [
        "## Task 3\n",
        "**Create a pairwise relationships plot for Global_Sales, Critic_Score, Critic_Count, User_Score, User_Count.**\n"
      ],
      "metadata": {
        "id": "pKy_6QCd43Hz"
      }
    },
    {
      "cell_type": "code",
      "source": [
        "%config InlineBackend.figure_format = 'png'\n"
      ],
      "metadata": {
        "id": "GyQQoqxE5LGy"
      },
      "execution_count": null,
      "outputs": []
    },
    {
      "cell_type": "code",
      "source": [
        "%config InlineBackend.figure_format = 'svg'\n"
      ],
      "metadata": {
        "id": "D6hLDQsk5fQa"
      },
      "execution_count": null,
      "outputs": []
    },
    {
      "cell_type": "markdown",
      "source": [
        "## Task 4\n",
        "**Plot a distribution of observations critics’ ratings**"
      ],
      "metadata": {
        "id": "f3LEgAnt5SsM"
      }
    },
    {
      "cell_type": "code",
      "source": [],
      "metadata": {
        "id": "dDJepFHC5oDq"
      },
      "execution_count": null,
      "outputs": []
    },
    {
      "cell_type": "markdown",
      "source": [
        "## Task 5\n",
        "To look more closely at the relationship between two numerical variables, **use jointplot to see how the Critic_Score and User_Score features are related.**\n",
        "\n"
      ],
      "metadata": {
        "id": "HuUH5PlO5-6a"
      }
    },
    {
      "cell_type": "code",
      "source": [],
      "metadata": {
        "id": "p1W6HqW27RU9"
      },
      "execution_count": null,
      "outputs": []
    },
    {
      "cell_type": "markdown",
      "source": [
        "## Task 6\n",
        "**Use Boxplot compare critics’ ratings for the top 5 biggest gaming platforms.**"
      ],
      "metadata": {
        "id": "m6ZBIj2B8hzM"
      }
    },
    {
      "cell_type": "code",
      "source": [],
      "metadata": {
        "id": "jhIBDQxM8gPM"
      },
      "execution_count": null,
      "outputs": []
    },
    {
      "cell_type": "markdown",
      "source": [
        "## Task 7 \n",
        "**Use heatmap to visualize the total sales of games by genre and gaming platform.**\n",
        "\n"
      ],
      "metadata": {
        "id": "60tc9pSZ86uh"
      }
    },
    {
      "cell_type": "code",
      "source": [],
      "metadata": {
        "id": "PN780b8p9GiA"
      },
      "execution_count": null,
      "outputs": []
    }
  ]
}